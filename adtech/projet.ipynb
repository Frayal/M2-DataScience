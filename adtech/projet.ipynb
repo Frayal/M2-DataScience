{
 "cells": [
  {
   "cell_type": "code",
   "execution_count": 1,
   "metadata": {},
   "outputs": [
    {
     "name": "stdout",
     "output_type": "stream",
     "text": [
      "Populating the interactive namespace from numpy and matplotlib\n"
     ]
    }
   ],
   "source": [
    "# Data manipulation\n",
    "import pandas as pd\n",
    "import numpy as np\n",
    "\n",
    "from collections import Counter\n",
    "\n",
    "# Data visualization\n",
    "import matplotlib.pyplot as plt\n",
    "plt.style.use('ggplot')\n",
    "import seaborn as sns\n",
    "%pylab inline"
   ]
  },
  {
   "cell_type": "code",
   "execution_count": 2,
   "metadata": {},
   "outputs": [],
   "source": [
    "df_train = pd.read_csv('data/training.csv')\n",
    "df_test = pd.read_csv('data/test.csv')"
   ]
  },
  {
   "cell_type": "code",
   "execution_count": 7,
   "metadata": {},
   "outputs": [
    {
     "data": {
      "text/html": [
       "<div>\n",
       "<style scoped>\n",
       "    .dataframe tbody tr th:only-of-type {\n",
       "        vertical-align: middle;\n",
       "    }\n",
       "\n",
       "    .dataframe tbody tr th {\n",
       "        vertical-align: top;\n",
       "    }\n",
       "\n",
       "    .dataframe thead th {\n",
       "        text-align: right;\n",
       "    }\n",
       "</style>\n",
       "<table border=\"1\" class=\"dataframe\">\n",
       "  <thead>\n",
       "    <tr style=\"text-align: right;\">\n",
       "      <th></th>\n",
       "      <th>auction_id</th>\n",
       "      <th>timestamp</th>\n",
       "      <th>creative_duration</th>\n",
       "      <th>creative_id</th>\n",
       "      <th>campaign_id</th>\n",
       "      <th>advertiser_id</th>\n",
       "      <th>placement_id</th>\n",
       "      <th>placement_language</th>\n",
       "      <th>website_id</th>\n",
       "      <th>referer_deep_three</th>\n",
       "      <th>ua_country</th>\n",
       "      <th>ua_os</th>\n",
       "      <th>ua_browser</th>\n",
       "      <th>ua_browser_version</th>\n",
       "      <th>ua_device</th>\n",
       "      <th>user_average_seconds_played</th>\n",
       "      <th>seconds_played</th>\n",
       "    </tr>\n",
       "  </thead>\n",
       "  <tbody>\n",
       "    <tr>\n",
       "      <th>0</th>\n",
       "      <td>0008b046-b675-4f51-8ad6-fe06e5d81f8e</td>\n",
       "      <td>1517334694</td>\n",
       "      <td>25</td>\n",
       "      <td>198280</td>\n",
       "      <td>210671</td>\n",
       "      <td>7109.0</td>\n",
       "      <td>47216</td>\n",
       "      <td>fr</td>\n",
       "      <td>31838</td>\n",
       "      <td>de/golf/publish</td>\n",
       "      <td>ch</td>\n",
       "      <td>Windows</td>\n",
       "      <td>Microsoft Edge</td>\n",
       "      <td>16.0</td>\n",
       "      <td>PersonalComputer</td>\n",
       "      <td>NaN</td>\n",
       "      <td>9</td>\n",
       "    </tr>\n",
       "    <tr>\n",
       "      <th>1</th>\n",
       "      <td>00095bac-8fec-48c8-a17b-8f3878359e1d</td>\n",
       "      <td>1517270483</td>\n",
       "      <td>29</td>\n",
       "      <td>195285</td>\n",
       "      <td>210074</td>\n",
       "      <td>2270.0</td>\n",
       "      <td>77249</td>\n",
       "      <td>fr</td>\n",
       "      <td>46416</td>\n",
       "      <td>com/vinepair/articles</td>\n",
       "      <td>uk</td>\n",
       "      <td>Windows</td>\n",
       "      <td>Chrome</td>\n",
       "      <td>64.0</td>\n",
       "      <td>PersonalComputer</td>\n",
       "      <td>NaN</td>\n",
       "      <td>8</td>\n",
       "    </tr>\n",
       "  </tbody>\n",
       "</table>\n",
       "</div>"
      ],
      "text/plain": [
       "                             auction_id   timestamp  creative_duration  \\\n",
       "0  0008b046-b675-4f51-8ad6-fe06e5d81f8e  1517334694                 25   \n",
       "1  00095bac-8fec-48c8-a17b-8f3878359e1d  1517270483                 29   \n",
       "\n",
       "   creative_id  campaign_id  advertiser_id  placement_id placement_language  \\\n",
       "0       198280       210671         7109.0         47216                 fr   \n",
       "1       195285       210074         2270.0         77249                 fr   \n",
       "\n",
       "   website_id     referer_deep_three ua_country    ua_os      ua_browser  \\\n",
       "0       31838        de/golf/publish         ch  Windows  Microsoft Edge   \n",
       "1       46416  com/vinepair/articles         uk  Windows          Chrome   \n",
       "\n",
       "   ua_browser_version         ua_device  user_average_seconds_played  \\\n",
       "0                16.0  PersonalComputer                          NaN   \n",
       "1                64.0  PersonalComputer                          NaN   \n",
       "\n",
       "   seconds_played  \n",
       "0               9  \n",
       "1               8  "
      ]
     },
     "execution_count": 7,
     "metadata": {},
     "output_type": "execute_result"
    }
   ],
   "source": [
    "df_train.head(2)"
   ]
  },
  {
   "cell_type": "code",
   "execution_count": 9,
   "metadata": {},
   "outputs": [],
   "source": [
    "## Convert date to date_time\n",
    "df_train['timestamp'] = pd.to_datetime(df_train['timestamp'],unit ='s')\n",
    "df_test['timestamp'] = pd.to_datetime(df_test['timestamp'],unit ='s')"
   ]
  },
  {
   "cell_type": "code",
   "execution_count": 11,
   "metadata": {},
   "outputs": [
    {
     "data": {
      "text/html": [
       "<div>\n",
       "<style scoped>\n",
       "    .dataframe tbody tr th:only-of-type {\n",
       "        vertical-align: middle;\n",
       "    }\n",
       "\n",
       "    .dataframe tbody tr th {\n",
       "        vertical-align: top;\n",
       "    }\n",
       "\n",
       "    .dataframe thead th {\n",
       "        text-align: right;\n",
       "    }\n",
       "</style>\n",
       "<table border=\"1\" class=\"dataframe\">\n",
       "  <thead>\n",
       "    <tr style=\"text-align: right;\">\n",
       "      <th></th>\n",
       "      <th>auction_id</th>\n",
       "      <th>timestamp</th>\n",
       "      <th>creative_duration</th>\n",
       "      <th>creative_id</th>\n",
       "      <th>campaign_id</th>\n",
       "      <th>advertiser_id</th>\n",
       "      <th>placement_id</th>\n",
       "      <th>placement_language</th>\n",
       "      <th>website_id</th>\n",
       "      <th>referer_deep_three</th>\n",
       "      <th>ua_country</th>\n",
       "      <th>ua_os</th>\n",
       "      <th>ua_browser</th>\n",
       "      <th>ua_browser_version</th>\n",
       "      <th>ua_device</th>\n",
       "      <th>user_average_seconds_played</th>\n",
       "      <th>seconds_played</th>\n",
       "    </tr>\n",
       "  </thead>\n",
       "  <tbody>\n",
       "    <tr>\n",
       "      <th>0</th>\n",
       "      <td>0008b046-b675-4f51-8ad6-fe06e5d81f8e</td>\n",
       "      <td>2018-01-30 17:51:34</td>\n",
       "      <td>25</td>\n",
       "      <td>198280</td>\n",
       "      <td>210671</td>\n",
       "      <td>7109.0</td>\n",
       "      <td>47216</td>\n",
       "      <td>fr</td>\n",
       "      <td>31838</td>\n",
       "      <td>de/golf/publish</td>\n",
       "      <td>ch</td>\n",
       "      <td>Windows</td>\n",
       "      <td>Microsoft Edge</td>\n",
       "      <td>16.0</td>\n",
       "      <td>PersonalComputer</td>\n",
       "      <td>NaN</td>\n",
       "      <td>9</td>\n",
       "    </tr>\n",
       "    <tr>\n",
       "      <th>1</th>\n",
       "      <td>00095bac-8fec-48c8-a17b-8f3878359e1d</td>\n",
       "      <td>2018-01-30 00:01:23</td>\n",
       "      <td>29</td>\n",
       "      <td>195285</td>\n",
       "      <td>210074</td>\n",
       "      <td>2270.0</td>\n",
       "      <td>77249</td>\n",
       "      <td>fr</td>\n",
       "      <td>46416</td>\n",
       "      <td>com/vinepair/articles</td>\n",
       "      <td>uk</td>\n",
       "      <td>Windows</td>\n",
       "      <td>Chrome</td>\n",
       "      <td>64.0</td>\n",
       "      <td>PersonalComputer</td>\n",
       "      <td>NaN</td>\n",
       "      <td>8</td>\n",
       "    </tr>\n",
       "  </tbody>\n",
       "</table>\n",
       "</div>"
      ],
      "text/plain": [
       "                             auction_id           timestamp  \\\n",
       "0  0008b046-b675-4f51-8ad6-fe06e5d81f8e 2018-01-30 17:51:34   \n",
       "1  00095bac-8fec-48c8-a17b-8f3878359e1d 2018-01-30 00:01:23   \n",
       "\n",
       "   creative_duration  creative_id  campaign_id  advertiser_id  placement_id  \\\n",
       "0                 25       198280       210671         7109.0         47216   \n",
       "1                 29       195285       210074         2270.0         77249   \n",
       "\n",
       "  placement_language  website_id     referer_deep_three ua_country    ua_os  \\\n",
       "0                 fr       31838        de/golf/publish         ch  Windows   \n",
       "1                 fr       46416  com/vinepair/articles         uk  Windows   \n",
       "\n",
       "       ua_browser  ua_browser_version         ua_device  \\\n",
       "0  Microsoft Edge                16.0  PersonalComputer   \n",
       "1          Chrome                64.0  PersonalComputer   \n",
       "\n",
       "   user_average_seconds_played  seconds_played  \n",
       "0                          NaN               9  \n",
       "1                          NaN               8  "
      ]
     },
     "execution_count": 11,
     "metadata": {},
     "output_type": "execute_result"
    }
   ],
   "source": [
    "df_train.head(2)"
   ]
  },
  {
   "cell_type": "code",
   "execution_count": 12,
   "metadata": {},
   "outputs": [
    {
     "data": {
      "text/html": [
       "<div>\n",
       "<style scoped>\n",
       "    .dataframe tbody tr th:only-of-type {\n",
       "        vertical-align: middle;\n",
       "    }\n",
       "\n",
       "    .dataframe tbody tr th {\n",
       "        vertical-align: top;\n",
       "    }\n",
       "\n",
       "    .dataframe thead th {\n",
       "        text-align: right;\n",
       "    }\n",
       "</style>\n",
       "<table border=\"1\" class=\"dataframe\">\n",
       "  <thead>\n",
       "    <tr style=\"text-align: right;\">\n",
       "      <th></th>\n",
       "      <th>creative_duration</th>\n",
       "      <th>creative_id</th>\n",
       "      <th>campaign_id</th>\n",
       "      <th>advertiser_id</th>\n",
       "      <th>placement_id</th>\n",
       "      <th>website_id</th>\n",
       "      <th>ua_browser_version</th>\n",
       "      <th>user_average_seconds_played</th>\n",
       "      <th>seconds_played</th>\n",
       "    </tr>\n",
       "  </thead>\n",
       "  <tbody>\n",
       "    <tr>\n",
       "      <th>count</th>\n",
       "      <td>3.000000e+06</td>\n",
       "      <td>3.000000e+06</td>\n",
       "      <td>3.000000e+06</td>\n",
       "      <td>2.958556e+06</td>\n",
       "      <td>3.000000e+06</td>\n",
       "      <td>3.000000e+06</td>\n",
       "      <td>2.399960e+06</td>\n",
       "      <td>1.099705e+06</td>\n",
       "      <td>3.000000e+06</td>\n",
       "    </tr>\n",
       "    <tr>\n",
       "      <th>mean</th>\n",
       "      <td>2.910934e+01</td>\n",
       "      <td>1.990696e+05</td>\n",
       "      <td>2.119606e+05</td>\n",
       "      <td>4.665226e+03</td>\n",
       "      <td>5.790617e+04</td>\n",
       "      <td>3.218541e+04</td>\n",
       "      <td>3.662273e+01</td>\n",
       "      <td>1.004955e+01</td>\n",
       "      <td>6.967639e+00</td>\n",
       "    </tr>\n",
       "    <tr>\n",
       "      <th>std</th>\n",
       "      <td>2.109566e+01</td>\n",
       "      <td>7.107768e+03</td>\n",
       "      <td>7.470406e+03</td>\n",
       "      <td>2.919001e+03</td>\n",
       "      <td>1.791304e+04</td>\n",
       "      <td>1.003381e+04</td>\n",
       "      <td>2.644128e+01</td>\n",
       "      <td>9.053615e+00</td>\n",
       "      <td>9.054720e+00</td>\n",
       "    </tr>\n",
       "    <tr>\n",
       "      <th>min</th>\n",
       "      <td>5.000000e+00</td>\n",
       "      <td>1.213690e+05</td>\n",
       "      <td>1.243910e+05</td>\n",
       "      <td>6.250000e+02</td>\n",
       "      <td>1.874900e+04</td>\n",
       "      <td>1.432100e+04</td>\n",
       "      <td>0.000000e+00</td>\n",
       "      <td>0.000000e+00</td>\n",
       "      <td>0.000000e+00</td>\n",
       "    </tr>\n",
       "    <tr>\n",
       "      <th>25%</th>\n",
       "      <td>1.400000e+01</td>\n",
       "      <td>1.988620e+05</td>\n",
       "      <td>2.113480e+05</td>\n",
       "      <td>1.768000e+03</td>\n",
       "      <td>4.495100e+04</td>\n",
       "      <td>2.346300e+04</td>\n",
       "      <td>1.100000e+01</td>\n",
       "      <td>3.375000e+00</td>\n",
       "      <td>1.000000e+00</td>\n",
       "    </tr>\n",
       "    <tr>\n",
       "      <th>50%</th>\n",
       "      <td>2.800000e+01</td>\n",
       "      <td>2.012290e+05</td>\n",
       "      <td>2.137830e+05</td>\n",
       "      <td>3.774000e+03</td>\n",
       "      <td>6.194800e+04</td>\n",
       "      <td>3.247900e+04</td>\n",
       "      <td>4.100000e+01</td>\n",
       "      <td>8.500000e+00</td>\n",
       "      <td>4.000000e+00</td>\n",
       "    </tr>\n",
       "    <tr>\n",
       "      <th>75%</th>\n",
       "      <td>3.000000e+01</td>\n",
       "      <td>2.018620e+05</td>\n",
       "      <td>2.146310e+05</td>\n",
       "      <td>7.452000e+03</td>\n",
       "      <td>7.240800e+04</td>\n",
       "      <td>4.121400e+04</td>\n",
       "      <td>6.300000e+01</td>\n",
       "      <td>1.466667e+01</td>\n",
       "      <td>1.100000e+01</td>\n",
       "    </tr>\n",
       "    <tr>\n",
       "      <th>max</th>\n",
       "      <td>1.350000e+02</td>\n",
       "      <td>2.029200e+05</td>\n",
       "      <td>2.158850e+05</td>\n",
       "      <td>9.322000e+03</td>\n",
       "      <td>8.765900e+04</td>\n",
       "      <td>5.159200e+04</td>\n",
       "      <td>4.127000e+03</td>\n",
       "      <td>2.250000e+02</td>\n",
       "      <td>1.350000e+02</td>\n",
       "    </tr>\n",
       "  </tbody>\n",
       "</table>\n",
       "</div>"
      ],
      "text/plain": [
       "       creative_duration   creative_id   campaign_id  advertiser_id  \\\n",
       "count       3.000000e+06  3.000000e+06  3.000000e+06   2.958556e+06   \n",
       "mean        2.910934e+01  1.990696e+05  2.119606e+05   4.665226e+03   \n",
       "std         2.109566e+01  7.107768e+03  7.470406e+03   2.919001e+03   \n",
       "min         5.000000e+00  1.213690e+05  1.243910e+05   6.250000e+02   \n",
       "25%         1.400000e+01  1.988620e+05  2.113480e+05   1.768000e+03   \n",
       "50%         2.800000e+01  2.012290e+05  2.137830e+05   3.774000e+03   \n",
       "75%         3.000000e+01  2.018620e+05  2.146310e+05   7.452000e+03   \n",
       "max         1.350000e+02  2.029200e+05  2.158850e+05   9.322000e+03   \n",
       "\n",
       "       placement_id    website_id  ua_browser_version  \\\n",
       "count  3.000000e+06  3.000000e+06        2.399960e+06   \n",
       "mean   5.790617e+04  3.218541e+04        3.662273e+01   \n",
       "std    1.791304e+04  1.003381e+04        2.644128e+01   \n",
       "min    1.874900e+04  1.432100e+04        0.000000e+00   \n",
       "25%    4.495100e+04  2.346300e+04        1.100000e+01   \n",
       "50%    6.194800e+04  3.247900e+04        4.100000e+01   \n",
       "75%    7.240800e+04  4.121400e+04        6.300000e+01   \n",
       "max    8.765900e+04  5.159200e+04        4.127000e+03   \n",
       "\n",
       "       user_average_seconds_played  seconds_played  \n",
       "count                 1.099705e+06    3.000000e+06  \n",
       "mean                  1.004955e+01    6.967639e+00  \n",
       "std                   9.053615e+00    9.054720e+00  \n",
       "min                   0.000000e+00    0.000000e+00  \n",
       "25%                   3.375000e+00    1.000000e+00  \n",
       "50%                   8.500000e+00    4.000000e+00  \n",
       "75%                   1.466667e+01    1.100000e+01  \n",
       "max                   2.250000e+02    1.350000e+02  "
      ]
     },
     "execution_count": 12,
     "metadata": {},
     "output_type": "execute_result"
    }
   ],
   "source": [
    "df_train.describe()"
   ]
  },
  {
   "cell_type": "code",
   "execution_count": 13,
   "metadata": {},
   "outputs": [
    {
     "name": "stdout",
     "output_type": "stream",
     "text": [
      "Training set length:  3000000\n"
     ]
    },
    {
     "data": {
      "text/plain": [
       "Index(['auction_id', 'timestamp', 'creative_duration', 'creative_id',\n",
       "       'campaign_id', 'advertiser_id', 'placement_id', 'placement_language',\n",
       "       'website_id', 'referer_deep_three', 'ua_country', 'ua_os', 'ua_browser',\n",
       "       'ua_browser_version', 'ua_device', 'user_average_seconds_played',\n",
       "       'seconds_played'],\n",
       "      dtype='object')"
      ]
     },
     "execution_count": 13,
     "metadata": {},
     "output_type": "execute_result"
    }
   ],
   "source": [
    "print('Training set length: ', len(df_train))\n",
    "df_train.columns"
   ]
  },
  {
   "cell_type": "code",
   "execution_count": 14,
   "metadata": {},
   "outputs": [
    {
     "name": "stdout",
     "output_type": "stream",
     "text": [
      "Test set length:  1000000\n"
     ]
    },
    {
     "data": {
      "text/plain": [
       "Index(['auction_id', 'timestamp', 'creative_duration', 'creative_id',\n",
       "       'campaign_id', 'advertiser_id', 'placement_id', 'placement_language',\n",
       "       'website_id', 'referer_deep_three', 'ua_country', 'ua_os', 'ua_browser',\n",
       "       'ua_browser_version', 'ua_device', 'user_average_seconds_played'],\n",
       "      dtype='object')"
      ]
     },
     "execution_count": 14,
     "metadata": {},
     "output_type": "execute_result"
    }
   ],
   "source": [
    "print('Test set length: ', len(df_test))\n",
    "df_test.columns"
   ]
  },
  {
   "cell_type": "code",
   "execution_count": 16,
   "metadata": {},
   "outputs": [
    {
     "data": {
      "image/png": "[encoded data removed]",
      "text/plain": [
       "<matplotlib.figure.Figure at 0x1f255bda390>"
      ]
     },
     "metadata": {},
     "output_type": "display_data"
    }
   ],
   "source": [
    "corr = df_train.corr()\n",
    "\n",
    "# Generate a mask for the upper triangle\n",
    "mask = np.zeros_like(corr, dtype=np.bool)\n",
    "mask[np.triu_indices_from(mask)] = True\n",
    "\n",
    "# Set up the matplotlib figure\n",
    "f, ax = plt.subplots(figsize=(12, 12))\n",
    "\n",
    "# Draw the heatmap with the mask and correct aspect ratio\n",
    "sns.heatmap(corr, mask = mask, cmap=\"RdYlGn\",\n",
    "            square=True, xticklabels=True, yticklabels=True,\n",
    "            linewidths=.5, cbar_kws={\"shrink\": 1}, ax=ax);"
   ]
  },
  {
   "cell_type": "code",
   "execution_count": 18,
   "metadata": {},
   "outputs": [
    {
     "name": "stdout",
     "output_type": "stream",
     "text": [
      "NaNs in advertiser_id float64\n",
      "Proportion of NaNs: 1.381467 %\n",
      "-----------------------------\n",
      "NaNs in placement_language object\n",
      "Proportion of NaNs: 0.006300 %\n",
      "-----------------------------\n",
      "NaNs in referer_deep_three object\n",
      "Proportion of NaNs: 1.223233 %\n",
      "-----------------------------\n",
      "NaNs in ua_country object\n",
      "Proportion of NaNs: 0.000467 %\n",
      "-----------------------------\n",
      "NaNs in ua_browser_version float64\n",
      "Proportion of NaNs: 20.001333 %\n",
      "-----------------------------\n",
      "NaNs in ua_device object\n",
      "Proportion of NaNs: 0.006600 %\n",
      "-----------------------------\n",
      "NaNs in user_average_seconds_played float64\n",
      "Proportion of NaNs: 63.343167 %\n",
      "-----------------------------\n"
     ]
    }
   ],
   "source": [
    "from collections import Counter\n",
    "\n",
    "for col in df_train.columns:\n",
    "    if pd.isnull(df_train[col]).values.any():\n",
    "        print('NaNs in', col, df_train[col].dtypes)\n",
    "        d = dict(Counter(pd.isnull(df_train[col])))\n",
    "        nans = ( d[True] / (d[True] + d[False]) ) * 100\n",
    "        print('Proportion of NaNs: %f %%' % ( nans))\n",
    "        print('-----------------------------')"
   ]
  },
  {
   "cell_type": "code",
   "execution_count": 19,
   "metadata": {},
   "outputs": [
    {
     "name": "stdout",
     "output_type": "stream",
     "text": [
      "Number of entries when NaNs are kept:  3000000\n",
      "Number of entries when all NaNs are dropped:  926493\n"
     ]
    }
   ],
   "source": [
    "print('Number of entries when NaNs are kept: ',len(df_train))\n",
    "print('Number of entries when all NaNs are dropped: ' ,len(df_train.dropna()))"
   ]
  },
  {
   "cell_type": "code",
   "execution_count": 20,
   "metadata": {},
   "outputs": [],
   "source": [
    "# Premier jet, tout remplacer par 0 \n",
    "df_train = df_train.fillna(0)"
   ]
  },
  {
   "cell_type": "code",
   "execution_count": 25,
   "metadata": {},
   "outputs": [],
   "source": [
    "# Replace the date format, expand into 3 columns year, month, day\n",
    "\n",
    "df_train['Year'] = df_train['timestamp'].map(lambda x: x.year)\n",
    "df_train['Month'] = df_train['timestamp'].map(lambda x: x.month)\n",
    "df_train['Day'] = df_train['timestamp'].map(lambda x: x.day)\n",
    "df_train['Hour'] = df_train['timestamp'].map(lambda x: x.hour)\n",
    "df_train['minute'] = df_train['timestamp'].map(lambda x: x.minute)\n",
    "\n",
    "df_test['Year'] = df_test['timestamp'].map(lambda x: x.year)\n",
    "df_test['Month'] = df_test['timestamp'].map(lambda x: x.month)\n",
    "df_test['Day'] = df_test['timestamp'].map(lambda x: x.day)\n",
    "df_test['Hour'] = df_train['timestamp'].map(lambda x: x.hour)\n",
    "df_test['minute'] = df_train['timestamp'].map(lambda x: x.minute)"
   ]
  },
  {
   "cell_type": "code",
   "execution_count": null,
   "metadata": {},
   "outputs": [],
   "source": []
  }
 ],
 "metadata": {
  "kernelspec": {
   "display_name": "Python [default]",
   "language": "python",
   "name": "python3"
  },
  "language_info": {
   "codemirror_mode": {
    "name": "ipython",
    "version": 3
   },
   "file_extension": ".py",
   "mimetype": "text/x-python",
   "name": "python",
   "nbconvert_exporter": "python",
   "pygments_lexer": "ipython3",
   "version": "3.6.2"
  }
 },
 "nbformat": 4,
 "nbformat_minor": 2
}
