{
 "cells": [
  {
   "cell_type": "markdown",
   "metadata": {},
   "source": [
    "# Computer Lab: Quantile Regression\n",
    "\n",
    "Olivier Fercoq"
   ]
  },
  {
   "cell_type": "markdown",
   "metadata": {
    "collapsed": true
   },
   "source": [
    "# Preparation\n",
    "Please read the file TPquantile_regression_beginning.pdf for instructions on how to launch this notebook"
   ]
  },
  {
   "cell_type": "code",
   "execution_count": 1,
   "metadata": {},
   "outputs": [
    {
     "name": "stdout",
     "output_type": "stream",
     "text": [
      "Using matplotlib backend: Qt5Agg\n",
      "Populating the interactive namespace from numpy and matplotlib\n"
     ]
    }
   ],
   "source": [
    "%pylab\n",
    "%matplotlib inline\n",
    "sc = SparkContext.getOrCreate()"
   ]
  },
  {
   "cell_type": "code",
   "execution_count": 2,
   "metadata": {},
   "outputs": [],
   "source": [
    "filename = 'ethylene_methane.txt'"
   ]
  },
  {
   "cell_type": "code",
   "execution_count": 3,
   "metadata": {},
   "outputs": [
    {
     "data": {
      "text/plain": [
       "['Time (seconds), Methane conc (ppm), Ethylene conc (ppm), sensor readings (16 channels) ',\n",
       " '0.00    0.00    0.00    -41.98  2067.64 -37.13  2.28    8.63    -26.62  -8.46   -0.33   3437.73 2728.14 4054.03 4007.89 4478.27 5056.98 3639.09 3128.49']"
      ]
     },
     "execution_count": 3,
     "metadata": {},
     "output_type": "execute_result"
    }
   ],
   "source": [
    "dist_data = sc.textFile(filename)\n",
    "dist_data.take(2)"
   ]
  },
  {
   "cell_type": "markdown",
   "metadata": {},
   "source": [
    "<div class=\"alert alert-success\">We call filter to return a new DataFrame with a subset of the lines in the file (subset determined by a condition)"
   ]
  },
  {
   "cell_type": "code",
   "execution_count": 4,
   "metadata": {},
   "outputs": [
    {
     "data": {
      "text/plain": [
       "'0.00    0.00    0.00    -41.98  2067.64 -37.13  2.28    8.63    -26.62  -8.46   -0.33   3437.73 2728.14 4054.03 4007.89 4478.27 5056.98 3639.09 3128.49'"
      ]
     },
     "execution_count": 4,
     "metadata": {},
     "output_type": "execute_result"
    }
   ],
   "source": [
    "dist_data = dist_data.filter(lambda line: line[0:4] != 'Time')  # remove the first line\n",
    "dist_data.first()"
   ]
  },
  {
   "cell_type": "markdown",
   "metadata": {},
   "source": [
    "<div class=\"alert alert-success\"> the map function is allowing us to use a function on all elements of the dataset."
   ]
  },
  {
   "cell_type": "code",
   "execution_count": 5,
   "metadata": {},
   "outputs": [
    {
     "name": "stdout",
     "output_type": "stream",
     "text": [
      "0.00    0.00    0.00    -41.98  2067.64 -37.13  2.28    8.63    -26.62  -8.46   -0.33   3437.73 2728.14 4054.03 4007.89 4478.27 5056.98 3639.09 3128.49\n",
      "[  0.00000000e+00   0.00000000e+00   0.00000000e+00  -4.19800000e+01\n",
      "   2.06764000e+03  -3.71300000e+01   2.28000000e+00   8.63000000e+00\n",
      "  -2.66200000e+01  -8.46000000e+00  -3.30000000e-01   3.43773000e+03\n",
      "   2.72814000e+03   4.05403000e+03   4.00789000e+03   4.47827000e+03\n",
      "   5.05698000e+03   3.63909000e+03   3.12849000e+03]\n"
     ]
    }
   ],
   "source": [
    "s = dist_data.first()\n",
    "print(s)\n",
    "a = np.array(list(map(float, s.split())))\n",
    "print(a)\n"
   ]
  },
  {
   "cell_type": "code",
   "execution_count": 6,
   "metadata": {},
   "outputs": [
    {
     "data": {
      "text/plain": [
       "array([  0.00000000e+00,   0.00000000e+00,   0.00000000e+00,\n",
       "        -4.19800000e+01,   2.06764000e+03,  -3.71300000e+01,\n",
       "         2.28000000e+00,   8.63000000e+00,  -2.66200000e+01,\n",
       "        -8.46000000e+00,  -3.30000000e-01,   3.43773000e+03,\n",
       "         2.72814000e+03,   4.05403000e+03,   4.00789000e+03,\n",
       "         4.47827000e+03,   5.05698000e+03,   3.63909000e+03,\n",
       "         3.12849000e+03])"
      ]
     },
     "execution_count": 6,
     "metadata": {},
     "output_type": "execute_result"
    }
   ],
   "source": [
    "dist_data = dist_data.map(lambda line: np.array(list(map(float,line.split()))))\n",
    "dist_data.first()"
   ]
  },
  {
   "cell_type": "code",
   "execution_count": 7,
   "metadata": {},
   "outputs": [],
   "source": [
    "# We take about half of the data for the training set"
   ]
  },
  {
   "cell_type": "code",
   "execution_count": 8,
   "metadata": {},
   "outputs": [],
   "source": [
    "train_data_full = dist_data.filter(lambda row: row[0] < 42082.60 / 2.)\n"
   ]
  },
  {
   "cell_type": "code",
   "execution_count": 9,
   "metadata": {},
   "outputs": [],
   "source": [
    "# In order to make development smoother, we first consider 1/100th of the training data. \n",
    "# This can be changed when the algorithm is operational."
   ]
  },
  {
   "cell_type": "code",
   "execution_count": 10,
   "metadata": {},
   "outputs": [
    {
     "data": {
      "text/plain": [
       "PythonRDD[7] at RDD at PythonRDD.scala:48"
      ]
     },
     "execution_count": 10,
     "metadata": {},
     "output_type": "execute_result"
    }
   ],
   "source": [
    "train_data_full.cache()  # Otherwise, all previous filter operations are re-run each time an action is taken.\n",
    "\n",
    "freq = 100\n",
    "train_data = train_data_full.filter(lambda row: int(row[0]*100) % freq == 0)\n",
    "train_data.cache()  # Otherwise, all previous filter operations are re-run each time an action is taken.\n"
   ]
  },
  {
   "cell_type": "markdown",
   "metadata": {},
   "source": [
    "<div class=\"alert alert-success\">\n",
    "Spark RDD reduce function reduces the elements of this RDD using the specified commutative and associative binary operator.  \n",
    "the execution of this operation results in distributing the data across the multiple partitions.  \n",
    "It is a wide operation as it is shuffling data from multiple partitions and reduces to a single value  \n",
    "It accepts a Commutative and Associative function as an argument: \n",
    "    - The parameter function should have two arguments of the same data type  \n",
    "    - The return type of the function also must be same as argument types  \n"
   ]
  },
  {
   "cell_type": "code",
   "execution_count": 11,
   "metadata": {},
   "outputs": [
    {
     "name": "stdout",
     "output_type": "stream",
     "text": [
      "before centering [  0.00000000e+00   0.00000000e+00   0.00000000e+00  -4.19800000e+01\n",
      "   2.06764000e+03  -3.71300000e+01   2.28000000e+00   8.63000000e+00\n",
      "  -2.66200000e+01  -8.46000000e+00  -3.30000000e-01   3.43773000e+03\n",
      "   2.72814000e+03   4.05403000e+03   4.00789000e+03   4.47827000e+03\n",
      "   5.05698000e+03   3.63909000e+03   3.12849000e+03]\n",
      "nb of columns (19,)\n",
      "nb of observations 24764\n",
      "row_means [  1.22635033e+04   6.52015652e+01   3.96160394e+00   2.45430267e+03\n",
      "   1.76305532e+03   2.75705064e+03   3.04433692e+03   1.95226315e+03\n",
      "   2.49947013e+03   2.67255789e+03   2.97321209e+03   3.47290366e+03\n",
      "   2.76907937e+03   2.25275025e+03   2.01260047e+03   1.76457931e+03\n",
      "   1.89374477e+03   2.25722566e+03   1.83294130e+03]\n",
      "after centering [ -1.22635033e+04  -6.52015652e+01  -3.96160394e+00  -2.49628267e+03\n",
      "   3.04584679e+02  -2.79418064e+03  -3.04205692e+03  -1.94363315e+03\n",
      "  -2.52609013e+03  -2.68101789e+03  -2.97354209e+03  -3.51736553e+01\n",
      "  -4.09393668e+01   1.80127975e+03   1.99528953e+03   2.71369069e+03\n",
      "   3.16323523e+03   1.38186434e+03   1.29554870e+03]\n",
      "row_stds [  6.26790489e+03   7.90950517e+01   5.31645621e+00   2.30291513e+02\n",
      "   1.48262812e+02   1.14556373e+03   1.24979720e+03   1.11849890e+03\n",
      "   1.44010839e+03   1.09080874e+03   1.22257627e+03   2.35858401e+02\n",
      "   1.81415281e+02   9.61591094e+02   8.14594591e+02   9.96194041e+02\n",
      "   1.11497034e+03   9.37917327e+02   7.48059090e+02]\n",
      "after standardizing [ -1.95655543  -0.82434443  -0.74515876 -10.83966417   2.05435655\n",
      "  -2.43913156  -2.43404043  -1.73771574  -1.75409723  -2.45782582\n",
      "  -2.43219353  -0.14913039  -0.22566658   1.8732284    2.44942644\n",
      "   2.72405834   2.83705775   1.47333277   1.73188017]\n",
      "this should be 0 [ -2.18278728e-11   8.39008862e-11   5.85146154e-10   3.39923645e-11\n",
      "   2.10661710e-10   9.54969437e-12   3.36513040e-11   5.00222086e-11\n",
      "   4.36557457e-11   3.56976670e-11   9.66338121e-11   1.02431841e-10\n",
      "   1.53704605e-10   3.04680725e-11   3.56976670e-11   9.54969437e-12\n",
      "   5.27506927e-11   1.65982783e-11   4.22915036e-11]\n",
      "this should be 1 [ 1.  1.  1.  1.  1.  1.  1.  1.  1.  1.  1.  1.  1.  1.  1.  1.  1.  1.\n",
      "  1.]\n",
      "before centering [  0.00000000e+00   0.00000000e+00   0.00000000e+00  -4.19800000e+01\n",
      "   2.06764000e+03  -3.71300000e+01   2.28000000e+00   8.63000000e+00\n",
      "  -2.66200000e+01  -8.46000000e+00  -3.30000000e-01   3.43773000e+03\n",
      "   2.72814000e+03   4.05403000e+03   4.00789000e+03   4.47827000e+03\n",
      "   5.05698000e+03   3.63909000e+03   3.12849000e+03]\n",
      "nb of columns (19,)\n",
      "nb of observations 2103710\n",
      "row_means [  1.05202097e+04   6.58268680e+01   4.00256815e+00   2.44494716e+03\n",
      "   1.77130464e+03   2.76510015e+03   3.05301516e+03   1.95108640e+03\n",
      "   2.49727964e+03   2.68486121e+03   2.98526551e+03   3.46079147e+03\n",
      "   2.76010957e+03   2.26482100e+03   2.02310043e+03   1.76247624e+03\n",
      "   1.89257771e+03   2.27053023e+03   1.84282247e+03]\n",
      "after centering [ -1.05202097e+04  -6.58268680e+01  -4.00256815e+00  -2.48692716e+03\n",
      "   2.96335356e+02  -2.80223015e+03  -3.05073516e+03  -1.94245640e+03\n",
      "  -2.52389964e+03  -2.69332121e+03  -2.98559551e+03  -2.30614696e+01\n",
      "  -3.19695712e+01   1.78920900e+03   1.98478957e+03   2.71579376e+03\n",
      "   3.16440229e+03   1.36855977e+03   1.28566753e+03]\n",
      "row_stds [  6.07438616e+03   7.95484604e+01   5.24099946e+00   2.31798373e+02\n",
      "   1.36465887e+02   1.11183843e+03   1.21345913e+03   1.10818080e+03\n",
      "   1.42981116e+03   1.06158547e+03   1.18945978e+03   2.37398349e+02\n",
      "   1.82950354e+02   9.36974896e+02   7.92007347e+02   9.86507646e+02\n",
      "   1.10449810e+03   9.16722868e+02   7.29246389e+02]\n",
      "after standardizing [ -1.73189676  -0.8275065   -0.76370322 -10.72883786   2.17149767\n",
      "  -2.52035734  -2.51408151  -1.75283348  -1.76519789  -2.5370743\n",
      "  -2.51004325  -0.0971425   -0.17474452   1.90955917   2.50602419\n",
      "   2.75293736   2.86501378   1.49288277   1.76300843]\n",
      "this should be 0 [  1.41444616e-08  -1.02130434e-06   3.36374796e-07  -8.91814125e-07\n",
      "  -1.12510497e-06   1.42914359e-07   1.15091098e-07   2.42464012e-07\n",
      "   7.88277248e-08   2.44879629e-07   2.39844667e-07   8.07762262e-07\n",
      "   1.95246139e-06   2.04890966e-08   1.91954314e-07   1.27736712e-07\n",
      "   1.57495379e-07  -4.32191882e-09   2.09096470e-07]\n",
      "this should be 1 [ 1.  1.  1.  1.  1.  1.  1.  1.  1.  1.  1.  1.  1.  1.  1.  1.  1.  1.\n",
      "  1.]\n"
     ]
    }
   ],
   "source": [
    "def standardize(train_data):\n",
    "    print('before centering', train_data.first())\n",
    "    row_sums = train_data.reduce(lambda a, b: a + b)\n",
    "    print('nb of columns', row_sums.shape)\n",
    "    n_train = train_data.count()\n",
    "    print('nb of observations', n_train)\n",
    "\n",
    "    row_means = row_sums / n_train\n",
    "    print('row_means', row_means)\n",
    "\n",
    "    train_data = train_data.map(lambda r: r - row_means)\n",
    "    print('after centering', train_data.first())\n",
    "\n",
    "    row_stds = np.sqrt(train_data.map(lambda r: r ** 2).reduce(lambda a, b: a + b) / n_train)\n",
    "    print('row_stds', row_stds)\n",
    "    train_data = train_data.map(lambda r: r / row_stds)\n",
    "    print('after standardizing', train_data.first())\n",
    "\n",
    "    row_sums_should_be_0 = train_data.reduce(lambda a, b: a + b)\n",
    "    print('this should be 0', row_sums_should_be_0)\n",
    "    row_stds_should_be_1 = np.sqrt(train_data.map(lambda r: r ** 2).reduce(lambda a, b: a + b) / n_train)\n",
    "    print('this should be 1', row_stds_should_be_1)\n",
    "\n",
    "    return train_data\n",
    "\n",
    "\n",
    "\n",
    "train_data = standardize(train_data)\n",
    "train_data_NotDistributed = np.array(train_data.collect())  # collect() should be used only on small RDDs\n",
    "\n",
    "train_data_full = standardize(train_data_full)\n",
    "\n"
   ]
  },
  {
   "cell_type": "markdown",
   "metadata": {},
   "source": [
    "# Distributed least squares\n",
    "\n",
    "let's solve the least square error with parallel computation.\n"
   ]
  },
  {
   "cell_type": "markdown",
   "metadata": {},
   "source": [
    "let's consider the following problem:\n",
    "$$ (1) \\; \\min_{w \\in \\mathbb{R}^{dx2}} \\frac{1}{2}||Xw_{:,ethylene} - y_{:,ethylene}||^2 + \\frac{1}{2}||Xw_{:,methane} - y_{:,methane}||^2   $$\n",
    "we can first see that's this problem can be rewritten as such:\n",
    "$$ (1) \\; \\min_{w \\in \\mathbb{R}^{d}} \\frac{1}{2}||Xw - y_{:,ethylene}||^2 +  \\min_{w' \\in \\mathbb{R}^{d}}\\frac{1}{2}||Xw' - y_{:,methane}||^2   $$\n",
    "\n",
    "those two least square problem can be solved by derivating the objective function we want to minimize:  \n",
    "let's call $f$ the function define by $f(w) = \\frac{1}{2} ||Xw - y||^2$ then the derivate is given by: $\\frac{df}{dw}(w) = X^T(Xw-y)$ and we find the minimizer from this expression:\n",
    "$$ w = (X X^T)^{-1}X^Ty$$  \n",
    "or, depending on the form we want:\n",
    "$$ (XX^T)w = X^Ty$$\n",
    "\n",
    "applying this form to the problem 1 gives us that the solution to the least squares problem is the solution to a linear system of equations of a moderate size.\n",
    "$$\n",
    "\\left\\{\n",
    "    \\begin{array}{ll}\n",
    "        (XX^T)w_{:,ethylene} = X^Ty_{:,ethylene} \\\\\n",
    "       (XX^T)w_{:,methane} = X^Ty_{:,methane}\n",
    "    \\end{array}\n",
    "\\right.\n",
    "$$\n",
    "\n",
    "this can be rewritten to find the exact solution:\n",
    "$$\n",
    "\\left\\{\n",
    "    \\begin{array}{ll}\n",
    "        w_{:,ethylene} = (XX^T)^{-1}X^Ty_{:,ethylene} \\\\\n",
    "       w_{:,methane} = (XX^T)^{-1}X^Ty_{:,methane}\n",
    "    \\end{array}\n",
    "\\right.\n",
    "$$\n",
    "\n",
    "we now use this to solve the problem:"
   ]
  },
  {
   "cell_type": "code",
   "execution_count": 12,
   "metadata": {},
   "outputs": [],
   "source": [
    "import numpy as np\n",
    "#lsp = least square problem\n",
    "def lsp(X):\n",
    "    xtx = X.map(lambda row  : np.outer(row[3:], row[3:])).reduce(lambda a, b : a + b)\n",
    "    xty_m = X.map(lambda row  : row[1] * row[3:]).reduce(lambda a, b : a + b)\n",
    "    xty_e = X.map(lambda row  : row[2] * row[3:]).reduce(lambda a, b : a + b)\n",
    "    y= [np.linalg.solve(xtx,xty_e),np.linalg.solve(xtx,xty_m)]\n",
    "    return(y)"
   ]
  },
  {
   "cell_type": "code",
   "execution_count": 13,
   "metadata": {},
   "outputs": [
    {
     "data": {
      "text/plain": [
       "[array([ 0.05785333, -0.01648893,  5.98149872, -3.26804662,  2.19818637,\n",
       "        -0.85176119, -6.17691052,  1.68331876,  0.20878866, -0.38228381,\n",
       "        -2.82765122, -1.62830299, -0.1201385 , -0.98787302,  5.39467748,\n",
       "         1.38404938]),\n",
       " array([ 0.05067342,  0.01360923, -0.11311798,  0.3867774 , -7.16841568,\n",
       "         4.64021876,  1.45738644,  1.21366416, -0.83444129,  0.70229529,\n",
       "         1.86491802, -3.34056305,  0.67064626,  2.5687135 , -0.01066947,\n",
       "        -1.2251673 ])]"
      ]
     },
     "execution_count": 13,
     "metadata": {},
     "output_type": "execute_result"
    }
   ],
   "source": [
    "lsp(train_data)"
   ]
  },
  {
   "cell_type": "code",
   "execution_count": 14,
   "metadata": {},
   "outputs": [
    {
     "data": {
      "text/plain": [
       "[array([ 0.0485206 , -0.01502376,  5.88192701, -3.28065969,  2.31979054,\n",
       "        -1.15516419, -5.54778859,  1.35446226,  0.33945828, -0.46888552,\n",
       "        -2.64645593, -1.90203955, -0.40600687, -0.491782  ,  4.89059757,\n",
       "         1.72824999]),\n",
       " array([ 0.09682988,  0.01240669, -0.14024083,  0.34187629, -6.83667423,\n",
       "         4.59287714,  0.99581238,  1.39054027, -0.867363  ,  0.69831324,\n",
       "         1.81161887, -3.18783061,  0.22809633,  2.78471187,  0.08956648,\n",
       "        -1.11281948])]"
      ]
     },
     "execution_count": 14,
     "metadata": {},
     "output_type": "execute_result"
    }
   ],
   "source": [
    "lsp(train_data_full)"
   ]
  },
  {
   "cell_type": "markdown",
   "metadata": {},
   "source": [
    "# Quantile regression with linear kernels:serial algorithm"
   ]
  },
  {
   "cell_type": "markdown",
   "metadata": {},
   "source": [
    "let's take a $\\gamma>0$  \n",
    "we now calculate $prox_{\\gamma f_2}(v)$\n",
    "we have:\n",
    "$$\n",
    "\\begin{align}\n",
    " \\\\prox_{\\gamma f_2}(v) \n",
    "& = \\arg\\!\\min_x (\\gamma f_2(x) +\\frac{1}{2}||x-v||^2_2)\\\\\n",
    "& = \\arg\\!\\min_x (\\gamma L_{\\tau}(y-x) +\\frac{1}{2}||x-v||^2_2)\\\\\n",
    "& = \\arg\\!\\min_x (\\gamma \\max\\{-(1-\\tau)(y-x),\\tau(y-x)\\} +\\frac{1}{2}||x-v||^2_2)\\\\\n",
    "\\end{align}\n",
    "$$\n",
    "\n",
    "here we make a case distiction. $(x-y)>0$, $x=y$ or $(x-y)<0$\n",
    "\n",
    "if $(x-y)>0$:  \n",
    "$$\n",
    "\\begin{align}\n",
    " \\\\prox_{\\gamma f_2}(v) \n",
    "& = \\arg\\!\\min_x (\\gamma \\tau(y-x) + \\frac{1}{2}(x-v)^2)\\\\\n",
    "\\end{align}\n",
    "$$\n",
    "we derive and we find: $x= v+\\gamma \\tau$\n",
    "\n",
    "if $(x-y)<0$:\n",
    "$$prox_{\\gamma f_2}(v) = \\arg\\!\\min_x (-\\gamma(1- \\tau)(y-x) + \\frac{1}{2}(x-v)^2) $$\n",
    "we derive and we find: $x= v-\\gamma(1- \\tau)$\n",
    "\n",
    "Having found that we can now conclude:\n",
    "$$\n",
    "prox_{\\gamma f_2}(v) = \n",
    "\\left\\{\n",
    "    \\begin{array}{ll}\n",
    "       v+\\gamma \\tau \\; \\text{if} :\\; y-\\gamma \\tau>v   \\\\\n",
    "       v - \\gamma(1-\\tau) \\; \\text{if} :\\; y+\\gamma(1-\\tau)<v \\\\\n",
    "       \\text{else} \\; x=y \\\\\n",
    "    \\end{array}\n",
    "\\right.\n",
    "$$"
   ]
  },
  {
   "cell_type": "markdown",
   "metadata": {},
   "source": [
    "given the problem (3) we can find the matrix and the two functions:  \n",
    "$$ f_1(w,w_0) = \\frac{\\alpha}{2}||w||^2_F$$\n",
    "$$M(w,w_0) = Xw + w_0(1....1)^T = (1_d X)\\begin{pmatrix} w\\\\w_0 \\end{pmatrix}$$\n",
    "$$ f_2(M(w,w_0)) = \\sum_{g=1}^2 \\sum_{i=1}^n (L_{\\tau}(y_{i,g} - M(w,w_0)_{i,g}))$$\n",
    "where $1_d$ is a vector column of size n filled with 1.\n"
   ]
  },
  {
   "cell_type": "markdown",
   "metadata": {},
   "source": [
    "let's now write the ADMM steps to solve the following problem:\n",
    "$$ \\inf_{(w_0,w)} f + g\\circ M$$\n",
    "from the class we have:  \n",
    "$$\n",
    "\\left\\{\n",
    "    \\begin{array}{ll}\n",
    "        x^{k+1} = \\arg\\!\\min_x (f(x) + <\\phi^k,Mx> + \\frac{1}{2}||Mx-z^k||^2) \\\\\n",
    "        z^{k+1} = \\arg\\!\\min_z (g(z) - <\\phi^k,z> + \\frac{1}{2\\gamma}||Mx^{k+1}-z||^2)\\\\\n",
    "        \\phi^{k+1} = \\phi^k + \\frac{1}{\\gamma}(Mx^{k+1} - z^{k+1}) \\\\\n",
    "    \\end{array}\n",
    "\\right.\n",
    "$$\n",
    "we now need to adapt this to the current situation. let's first take care of the first line. We can derivate this expression to find the minimum. It comes:\n",
    "$$ \\alpha \\begin{pmatrix} 0 & 0 \\\\ 0 & I_n \\end{pmatrix} x + M^T \\phi^k + \\frac{1}{\\gamma}M^T(M x - z^k) = 0 $$\n",
    "hence:\n",
    "$$x = (\\alpha \\begin{pmatrix} 0 & 0 \\\\ 0 & I_n \\end{pmatrix} + \\frac{1}{\\gamma}M^TM)^{-1} M^T(\\frac{z^k}{\\gamma}-\\phi^k) $$\n",
    "for the second line we will transform a little the expression to get the prox function we had calculate above.\n",
    "$$\n",
    "\\begin{align}\n",
    " \\\\z^{k+1}\n",
    "& = \\arg\\!\\min_z (g(z) - <\\phi^k,z> + \\frac{1}{2\\gamma}||Mx^{k+1}-z||^2\\\\\n",
    "& = \\arg\\!\\min_z (g(z) - \\frac{1}{2}<\\phi^k,z> -\\frac{1}{2}<z,\\phi^k>+ \\frac{1}{2\\gamma}<Mx^{k+1}-z,Mx^{k+1}-z>)\\\\\n",
    "& = \\arg\\!\\min_z (g(z) + \\frac{1}{2}<\\phi^k,Mx^{k+1} - z> + \\frac{1}{2}<Mx^{k+1} - z,\\phi^k>+ \\frac{1}{2\\gamma}<Mx^{k+1}-z,Mx^{k+1}-z>)\\\\\n",
    "& = \\arg\\!\\min_z (g(z)  + \\frac{1}{2}<Mx^{k+1} - z,\\phi^k>+ \\frac{1}{2\\gamma}<Mx^{k+1} + \\gamma \\phi^k -z,Mx^{k+1}-z>)\\\\\n",
    "& = \\arg\\!\\min_z (g(z)  + \\frac{1}{2}<Mx^{k+1}+ \\gamma \\phi^k - z,\\phi^k>+ \\frac{1}{2\\gamma}<Mx^{k+1} + \\gamma \\phi^k -z,Mx^{k+1}-z>)\\\\\n",
    "& = \\arg\\!\\min_z (g(z) + \\frac{1}{2\\gamma}<Mx^{k+1} + \\gamma \\phi^k -z,Mx^{k+1} + \\gamma \\phi^k -z>)\\\\\n",
    "& = \\arg\\!\\min_z (g(z) + \\frac{1}{2\\gamma}||Mx^{k+1} + \\gamma \\phi^k -z||^2)\\\\\n",
    "& = prox_{\\gamma g} (Mx^{k+1} + \\gamma \\phi^k)\n",
    "\\end{align}\n",
    "$$\n",
    "it's here a generalisation of the function define for the vector as the function applied for every coordinates.  \n",
    "we can now rewrite the steps as follow:\n",
    "$$\n",
    "\\left\\{\n",
    "    \\begin{array}{ll}\n",
    "        x^{k+1} = (\\alpha \\begin{pmatrix} 0 & 0 \\\\ 0 & I_n \\end{pmatrix} + \\frac{1}{\\gamma}M^TM)^{-1} M^T(\\frac{z^k}{\\gamma}-\\phi^k)\\\\\n",
    "        z^{k+1} = prox_{\\gamma g} (Mx^{k+1} + \\gamma \\phi^k)\\\\\n",
    "        \\phi^{k+1} = \\phi^k + \\frac{1}{\\gamma}(Mx^{k+1} - z^{k+1}) \\\\\n",
    "    \\end{array}\n",
    "\\right.\n",
    "$$"
   ]
  },
  {
   "cell_type": "code",
   "execution_count": 55,
   "metadata": {},
   "outputs": [],
   "source": [
    "#we first compute the functions we will need\n",
    "\n",
    "def prox(v,y,gamma,tau):\n",
    "    if (y>v+gamma*tau):\n",
    "        return(v+gamma*tau)\n",
    "    if(y<v-gamma*(1-tau)):\n",
    "        return(v-gamma*(1-tau))\n",
    "    return y\n",
    "\n",
    "\n",
    "def ADMM(X,n_iter=100,alpha=1,tau=0.9,gamma=1):\n",
    "    x = [[0,0]]*(len(X[:3])+1)\n",
    "    z = [[0,0]]*(len(X[1]))\n",
    "    Y =[X[1],X[2]]\n",
    "    M = np.concatenate(([[1]*len(X[1])],X[:3]))\n",
    "    phi = z\n",
    "    err = []\n",
    "    #######################\n",
    "    I = np.identity(len(X[1]))\n",
    "    print(len(X[1]))\n",
    "    I[0][0] = 0 \n",
    "    A = np.linalg.inv(alpha*I + (np.dot(M.T,M))/gamma)\n",
    "    A = np.dot(A,M.T).T\n",
    "    ########################\n",
    "    for i in range(n_iter):\n",
    "        ############################\n",
    "        x = np.dot(A,np.subtract(z,phi))\n",
    "        ############################\n",
    "        V = np.dot(M.T,x)+gamma*phi\n",
    "        for j in range(len(z[1])):\n",
    "            z[0][j] = prox(V[0][j],Y[0][j],gamma,tau)\n",
    "            z[1][j] = prox(V[1][j],Y[1][j],gamma,tau)\n",
    "        ############################\n",
    "        phi +=(np.dot(M.T,x)-z)\n",
    "        err.append(np.linalg.norm(np.dot(M.T,x)-z))\n",
    "    return(err)"
   ]
  },
  {
   "cell_type": "code",
   "execution_count": 65,
   "metadata": {},
   "outputs": [
    {
     "name": "stdout",
     "output_type": "stream",
     "text": [
      "19\n"
     ]
    },
    {
     "data": {
      "text/plain": [
       "[<matplotlib.lines.Line2D at 0x23604c52d30>]"
      ]
     },
     "execution_count": 65,
     "metadata": {},
     "output_type": "execute_result"
    },
    {
     "data": {
      "image/png": "[encoded data removed]",
      "text/plain": [
       "<matplotlib.figure.Figure at 0x23604b77c50>"
      ]
     },
     "metadata": {},
     "output_type": "display_data"
    }
   ],
   "source": [
    "plt.plot(ADMM(train_data_NotDistributed))"
   ]
  },
  {
   "cell_type": "markdown",
   "metadata": {},
   "source": [
    "# Parallel algorithm"
   ]
  },
  {
   "cell_type": "code",
   "execution_count": 57,
   "metadata": {},
   "outputs": [],
   "source": [
    "train_data_with_z_and_mu = train_data.map(lambda row: {'y' : row[1:3],'x' : row[3:],'z' : np.zeros(2),'mu' : np.zeros(2)})"
   ]
  },
  {
   "cell_type": "code",
   "execution_count": 95,
   "metadata": {},
   "outputs": [],
   "source": [
    "def ADMM_para(X,n_iter=100,alpha=1,tau=0.9,gamma=1):\n",
    "    P = X.map(lambda row: {'y' : row[1:3],'X' : row[3:],'z' : np.zeros(2),'mu' : np.zeros(2),'phi': np.zeros(2),'M':np.concatenate(([1],row[3:]))})\n",
    "    P.cache()\n",
    "    phi = np.zeros(2)\n",
    "    err = []\n",
    "    #######################\n",
    "    I = np.identity((17))\n",
    "    I[0][0] = 0 \n",
    "    A = (alpha*I + (P.map(lambda row  : np.outer(row['M'],row['M'])).reduce(lambda a, b : a + b)))*(gamma)\n",
    "    ########################\n",
    "    for i in range(n_iter):\n",
    "        print(i)\n",
    "        ############################\n",
    "        mu = np.linalg.solve(A,np.dot(P.map(lambda row : row['M']),np.subtract(P.map(lambda row : row['z'],P.map(lambda row : row['phi'])))))\n",
    "        ############################\n",
    "        V = np.dot(P.map(lambda row : row['M']),P.map(lambda row : row['mu']))+gamma*P.map(lambda row : row['phi'])\n",
    "        for j in range(len(z[1])):\n",
    "            P.map(lambda row: np.outer(row))\n",
    "            z[0][j] = prox(V[0][j],Y[0][j],gamma,tau)\n",
    "            z[1][j] = prox(V[1][j],Y[1][j],gamma,tau)\n",
    "        ############################\n",
    "        phi +=(np.dot(M.T,mu)-z)\n",
    "        err.append(np.linalg.norm(np.dot(M.T,mu)-z))\n",
    "    return(err)"
   ]
  },
  {
   "cell_type": "code",
   "execution_count": 96,
   "metadata": {},
   "outputs": [
    {
     "name": "stdout",
     "output_type": "stream",
     "text": [
      "0\n"
     ]
    },
    {
     "ename": "ValueError",
     "evalue": "invalid number of arguments",
     "output_type": "error",
     "traceback": [
      "\u001b[1;31m---------------------------------------------------------------------------\u001b[0m",
      "\u001b[1;31mValueError\u001b[0m                                Traceback (most recent call last)",
      "\u001b[1;32m<ipython-input-96-b7ea9e291993>\u001b[0m in \u001b[0;36m<module>\u001b[1;34m()\u001b[0m\n\u001b[1;32m----> 1\u001b[1;33m \u001b[0mADMM_para\u001b[0m\u001b[1;33m(\u001b[0m\u001b[0mtrain_data\u001b[0m\u001b[1;33m)\u001b[0m\u001b[1;33m\u001b[0m\u001b[0m\n\u001b[0m",
      "\u001b[1;32m<ipython-input-95-9894718fe8c1>\u001b[0m in \u001b[0;36mADMM_para\u001b[1;34m(X, n_iter, alpha, tau, gamma)\u001b[0m\n\u001b[0;32m     12\u001b[0m         \u001b[0mprint\u001b[0m\u001b[1;33m(\u001b[0m\u001b[0mi\u001b[0m\u001b[1;33m)\u001b[0m\u001b[1;33m\u001b[0m\u001b[0m\n\u001b[0;32m     13\u001b[0m         \u001b[1;31m############################\u001b[0m\u001b[1;33m\u001b[0m\u001b[1;33m\u001b[0m\u001b[0m\n\u001b[1;32m---> 14\u001b[1;33m         \u001b[0mmu\u001b[0m \u001b[1;33m=\u001b[0m \u001b[0mnp\u001b[0m\u001b[1;33m.\u001b[0m\u001b[0mlinalg\u001b[0m\u001b[1;33m.\u001b[0m\u001b[0msolve\u001b[0m\u001b[1;33m(\u001b[0m\u001b[0mA\u001b[0m\u001b[1;33m,\u001b[0m\u001b[0mnp\u001b[0m\u001b[1;33m.\u001b[0m\u001b[0mdot\u001b[0m\u001b[1;33m(\u001b[0m\u001b[0mP\u001b[0m\u001b[1;33m.\u001b[0m\u001b[0mmap\u001b[0m\u001b[1;33m(\u001b[0m\u001b[1;32mlambda\u001b[0m \u001b[0mrow\u001b[0m \u001b[1;33m:\u001b[0m \u001b[0mrow\u001b[0m\u001b[1;33m[\u001b[0m\u001b[1;34m'M'\u001b[0m\u001b[1;33m]\u001b[0m\u001b[1;33m)\u001b[0m\u001b[1;33m,\u001b[0m\u001b[0mnp\u001b[0m\u001b[1;33m.\u001b[0m\u001b[0msubtract\u001b[0m\u001b[1;33m(\u001b[0m\u001b[0mP\u001b[0m\u001b[1;33m.\u001b[0m\u001b[0mmap\u001b[0m\u001b[1;33m(\u001b[0m\u001b[1;32mlambda\u001b[0m \u001b[0mrow\u001b[0m \u001b[1;33m:\u001b[0m \u001b[0mrow\u001b[0m\u001b[1;33m[\u001b[0m\u001b[1;34m'z'\u001b[0m\u001b[1;33m]\u001b[0m\u001b[1;33m,\u001b[0m\u001b[0mP\u001b[0m\u001b[1;33m.\u001b[0m\u001b[0mmap\u001b[0m\u001b[1;33m(\u001b[0m\u001b[1;32mlambda\u001b[0m \u001b[0mrow\u001b[0m \u001b[1;33m:\u001b[0m \u001b[0mrow\u001b[0m\u001b[1;33m[\u001b[0m\u001b[1;34m'phi'\u001b[0m\u001b[1;33m]\u001b[0m\u001b[1;33m)\u001b[0m\u001b[1;33m)\u001b[0m\u001b[1;33m)\u001b[0m\u001b[1;33m)\u001b[0m\u001b[1;33m)\u001b[0m\u001b[1;33m\u001b[0m\u001b[0m\n\u001b[0m\u001b[0;32m     15\u001b[0m         \u001b[1;31m############################\u001b[0m\u001b[1;33m\u001b[0m\u001b[1;33m\u001b[0m\u001b[0m\n\u001b[0;32m     16\u001b[0m         \u001b[0mV\u001b[0m \u001b[1;33m=\u001b[0m \u001b[0mnp\u001b[0m\u001b[1;33m.\u001b[0m\u001b[0mdot\u001b[0m\u001b[1;33m(\u001b[0m\u001b[0mP\u001b[0m\u001b[1;33m.\u001b[0m\u001b[0mmap\u001b[0m\u001b[1;33m(\u001b[0m\u001b[1;32mlambda\u001b[0m \u001b[0mrow\u001b[0m \u001b[1;33m:\u001b[0m \u001b[0mrow\u001b[0m\u001b[1;33m[\u001b[0m\u001b[1;34m'M'\u001b[0m\u001b[1;33m]\u001b[0m\u001b[1;33m)\u001b[0m\u001b[1;33m,\u001b[0m\u001b[0mP\u001b[0m\u001b[1;33m.\u001b[0m\u001b[0mmap\u001b[0m\u001b[1;33m(\u001b[0m\u001b[1;32mlambda\u001b[0m \u001b[0mrow\u001b[0m \u001b[1;33m:\u001b[0m \u001b[0mrow\u001b[0m\u001b[1;33m[\u001b[0m\u001b[1;34m'mu'\u001b[0m\u001b[1;33m]\u001b[0m\u001b[1;33m)\u001b[0m\u001b[1;33m)\u001b[0m\u001b[1;33m+\u001b[0m\u001b[0mgamma\u001b[0m\u001b[1;33m*\u001b[0m\u001b[0mP\u001b[0m\u001b[1;33m.\u001b[0m\u001b[0mmap\u001b[0m\u001b[1;33m(\u001b[0m\u001b[1;32mlambda\u001b[0m \u001b[0mrow\u001b[0m \u001b[1;33m:\u001b[0m \u001b[0mrow\u001b[0m\u001b[1;33m[\u001b[0m\u001b[1;34m'phi'\u001b[0m\u001b[1;33m]\u001b[0m\u001b[1;33m)\u001b[0m\u001b[1;33m\u001b[0m\u001b[0m\n",
      "\u001b[1;31mValueError\u001b[0m: invalid number of arguments"
     ]
    }
   ],
   "source": [
    "ADMM_para(train_data)"
   ]
  },
  {
   "cell_type": "code",
   "execution_count": null,
   "metadata": {},
   "outputs": [],
   "source": []
  },
  {
   "cell_type": "code",
   "execution_count": null,
   "metadata": {},
   "outputs": [],
   "source": []
  }
 ],
 "metadata": {
  "kernelspec": {
   "display_name": "Python 3",
   "language": "python",
   "name": "python3"
  },
  "language_info": {
   "codemirror_mode": {
    "name": "ipython",
    "version": 3
   },
   "file_extension": ".py",
   "mimetype": "text/x-python",
   "name": "python",
   "nbconvert_exporter": "python",
   "pygments_lexer": "ipython3",
   "version": "3.6.2"
  }
 },
 "nbformat": 4,
 "nbformat_minor": 1
}
