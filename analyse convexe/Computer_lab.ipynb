{
 "cells": [
  {
   "cell_type": "markdown",
   "metadata": {},
   "source": [
    "# Computer Lab: Lasso\n",
    "\n",
    "    Lab  : Convex analysis - DataScience Master\n",
    "    Authors : Alexis blanchet\n",
    "    \n",
    "\n",
    "\n",
    "### 1- Data"
   ]
  },
  {
   "cell_type": "code",
   "execution_count": 1,
   "metadata": {},
   "outputs": [],
   "source": [
    "from sklearn.datasets import load_svmlight_file\n",
    "from sklearn import preprocessing\n",
    "import numpy as np\n",
    "import matplotlib.pyplot as plt\n",
    "%matplotlib inline"
   ]
  },
  {
   "cell_type": "code",
   "execution_count": 2,
   "metadata": {},
   "outputs": [],
   "source": [
    "data = load_svmlight_file('triazines.txt')\n",
    "X,y = data[0],data[1]"
   ]
  },
  {
   "cell_type": "code",
   "execution_count": 3,
   "metadata": {},
   "outputs": [],
   "source": [
    "A = preprocessing.scale(X.todense())\n",
    "b = preprocessing.scale(y)"
   ]
  },
  {
   "cell_type": "code",
   "execution_count": 4,
   "metadata": {},
   "outputs": [
    {
     "name": "stdout",
     "output_type": "stream",
     "text": [
      "-1.41344522705e-15 3.70074341542e-16\n"
     ]
    }
   ],
   "source": [
    "print(np.mean(A),np.mean(b))"
   ]
  },
  {
   "cell_type": "markdown",
   "metadata": {},
   "source": [
    "  ### 2 - Proximal Operator of the indicator of the $l1$ ball\n",
    "  \n",
    "   #### Question 2.1\n",
    "   \n",
    "   Supposing that $||w||_1 \\leq r$ then $w$ is in the convex $l1$ ball thus we can find a solution, in the convex, minimizing the projection. And the distance is then equal to 0 for $x = 0$ thus $P(w) = w$.\n",
    "   \n",
    "   #### Question 2.2\n",
    "   \n",
    "   let's now show that $ \\forall \\; i \\; :P(w)_iw_i \\geq 0$.\n",
    "   for that we will suppose otherwise: $\\exists \\; j$ such as $P(w)_jw_j < 0$ \n",
    "   \n",
    "   the we buid $\\hat{P(w)}$ such as $\\hat{P(w)}_i = P(w)_i \\forall \\; i \\neq j$ and $\\hat{P(w)}_j = -P(w)_j$\n",
    "   \n",
    "   then let's compute $\\frac{1}{2}(||P(w)-w||_2^2 - ||\\hat{P(w)}-w||_2^2)$\n",
    "   \n",
    "   by developping the scalar product we obtain $<\\hat{P(w)}-P(w),w> = -2P(w)_jwj>0$\n",
    "   thus we have found a vector satisfying the conditions and that has an objective value lower that the one we assumed was the minimum. This absurd and thus $ \\forall \\; i \\; :P(w)_iw_i \\geq 0$.\n",
    "   \n",
    "   let's now show that $||P(w)||_1 = r$\n",
    "   \n",
    "   to do so we will again suppose otherwise and show that we can built a vector wich achieve a better minimum for the objective function(projector)\n",
    "   to do so we built the following vector $\\hat{P(w)}_\\lambda = P(w) + \\lambda(w-P(w)) $. As the previous vector is IN the $l$ ball we know that it exists a $0<\\lambda<1 $ such as $\\hat{P(w)}_\\lambda$ is ON the ball (continuous function of $\\lambda$). Meaning that $||\\hat{P(w)}_\\lambda||_1 = r$\n",
    "   As such we now compute as before the difference of the objective function between the old vector and the new one and we find a positive value for such $\\lambda > 0$ (we find  $||P(w)-w||_2^2(1-(1-\\lambda)^2)$ and thus we have build a better solution for this problem wich is absurd. Thus $||P(w)||_1 = r$.\n",
    "   \n",
    "  #### Question 2.3\n",
    "  \n",
    "  from the question 2.2 the solution is on the ball and in have a sign for it's coordinate equal to the sign of the coordinates of $w$. Thus if we find the solution for on the ball for $|w|$ then we can find the solution for $w$ by multiplying by the sign of $w$. And as the solution is on the ball with positive coordinate the condition is rewritten as $\\sum_i x_i = r$ with  $\\forall \\; i : \\; x_i \\geq 0$\n",
    "  \n",
    "  thus the result.\n",
    "  \n",
    "  #### Question 2.4\n",
    "  \n",
    "  let's show the equivalence:  \n",
    "  let assume first than $x^* = \\tilde{P}(w)$\n",
    "  then we have:\n",
    "  \n",
    "  * $(\\sum_i^m x_i^* -r ) = 0$\n",
    "  * $x_j^* \\geq 0 \\; \\forall \\; i =>\\sum_i^m \\mathcal{i}_{\\mathbb{R}_+}(x_i^*) = 0$  \n",
    "\n",
    "we can now deduce that $L(x^*,\\theta) = \\frac{1}{2}||x^*-w||^2_2$  \n",
    "we also have $inf_x L(x,\\theta^*) = L(x^*,\\theta^*)$ (from the formula of L)  \n",
    "And so $sup_\\theta L(x^*,\\theta) = L(x^*,\\theta^*)$   \n",
    "\n",
    "from the questions before we can infer $\\forall \\; i \\; : |P(w)_i| = \\tilde{P}(|w|)_i $  \n",
    "\n",
    "and from the points above it comes $P(w) = sign(w).\\tilde{P}^*(|w|)$\n",
    "hence $\\exists \\theta^* \\in \\mathbb{R}$ such as $(x^*,\\theta^*)$ is a saddle point of $L(x,\\theta)$  \n",
    "\n",
    "\n",
    "for the other side:  \n",
    "let's assume $\\exists \\theta^* \\in \\mathbb{R}$ such as $(x^*,\\theta^*)$ is a saddle point of $L(x,\\theta)$\n",
    "then the dual gap is equal to 0.  \n",
    "thus $x_i^* \\geq 0 \\; \\forall \\; i$\n",
    "\n",
    "\n",
    "also $L(x^*,\\theta^*) = sup_\\theta inf_x L(x,\\theta)$  \n",
    "hence we have necessarely $\\sum_i^m x_i^* =r $  \n",
    "\n",
    "Finally: $L(x^*,\\theta^*) = inf_x L(x,\\theta^*)$  \n",
    "we rewrite this by simplifying it and using what's abose to conclude that $x^*$ is also solution of problem defined above and thus $x^* = \\tilde{P}(w)$\n",
    "\n",
    "\n",
    "  \n",
    "#### Question 2.5\n",
    "  from the question 2.4 knowing that for the solution $x^*=\\tilde{P}(w)$ it exists $\\theta^*$ such as $(x^*,\\theta^*)$ is a saddle point.\n",
    "  as such the two partial derivate are equale to zero. We also keep the condition $\\forall \\; i : \\; x_i \\geq 0$\n",
    "  as such we obtain:\n",
    "  $ \\forall \\; i\\in\\{1,...,m\\}:$\n",
    "  $ x^*_i = max(0,w_i-\\theta^*) $\n",
    "  and\n",
    "  $ \\sum_{j=1}^m max(0,w_i-\\theta^*) = r $\n",
    "  \n",
    "  #### Question 2.6\n",
    "  let's assume $w_i \\geq w_j$ \n",
    "  then if $(\\tilde{P}(w)_i = 0$)  we have $ w_i -\\theta^* \\leq 0$ thus $w_j-\\theta^* \\leq 0$ and we have $(\\tilde{P}(w)_j = 0$)\n",
    "\n",
    "  #### Question 2.7\n",
    "  let's design an algorithm to compute $\\tilde{P}(w)$\n",
    "  \n",
    "start:  \n",
    "w <- abs(w)  \n",
    "theta_new,theta_old = $\\frac{\\sum_j - r}{m},0$  \n",
    "while(theta_new -theta_old > epsilon) do:  \n",
    "+   x* = [max(0,w_j-theta_new]  \n",
    "-   idx <- indices where x* is non-nul  \n",
    "*   theta_old = new_theta  \n",
    "*   new_theta = $\\frac{\\sum_{j \\in idx} w_j - r}{len(idx)}$  \n",
    "\n",
    "return x*\n",
    "\n",
    "#### Question 2.8\n",
    "let's now code this algorithm and test it"
   ]
  },
  {
   "cell_type": "code",
   "execution_count": 5,
   "metadata": {},
   "outputs": [],
   "source": [
    "def projection_on_l1_ball(w,r,epsilon=10**-10,verbose = True):\n",
    "    \n",
    "    if verbose : print(\"rayon de la boule l1: \"+str(r))\n",
    "    w_sorted = np.sort(np.abs(w))\n",
    "    m = len(w_sorted)\n",
    "    teta_new = (np.sum(w_sorted)-r)/m\n",
    "    teta_old = 0\n",
    "    t = [teta_new]\n",
    "    k=0\n",
    "    while abs(teta_new-teta_old)>epsilon:\n",
    "        k+=1\n",
    "        if verbose :print(str(k)+\" iteration\")\n",
    "        proj = [np.maximum(0,w_sorted[j]-teta_new) for j in range(m)]\n",
    "        if verbose :print(\"norme du projeté: \" +str(np.sum(proj)))\n",
    "        teta_old = teta_new\n",
    "        res = 0\n",
    "        j = 0\n",
    "        for i in range(len(proj)):\n",
    "            if proj[i]>0: \n",
    "                res+= w_sorted[i]\n",
    "                j+=1\n",
    "        teta_new = (res-r)/j\n",
    "        t.append(teta_old)\n",
    "    sgn = [1 if wj>0 else -1 for wj in w]\n",
    "    proj = [a*b for a,b in zip(proj,sgn)]\n",
    "    return proj,t"
   ]
  },
  {
   "cell_type": "code",
   "execution_count": 6,
   "metadata": {},
   "outputs": [
    {
     "name": "stdout",
     "output_type": "stream",
     "text": [
      "rayon de la boule l1: 69.8296059929\n",
      "1 iteration\n",
      "norme du projeté: 81.467939812\n",
      "2 iteration\n",
      "norme du projeté: 70.3841068683\n",
      "3 iteration\n",
      "norme du projeté: 69.8421566437\n",
      "4 iteration\n",
      "norme du projeté: 69.8296059929\n"
     ]
    },
    {
     "data": {
      "text/plain": [
       "[<matplotlib.lines.Line2D at 0x1c6c094fc88>]"
      ]
     },
     "execution_count": 6,
     "metadata": {},
     "output_type": "execute_result"
    },
    {
     "data": {
      "image/png": "[encoded data removed]",
      "text/plain": [
       "<matplotlib.figure.Figure at 0x1c6c0552b38>"
      ]
     },
     "metadata": {},
     "output_type": "display_data"
    }
   ],
   "source": [
    "u,t = projection_on_l1_ball(b,np.linalg.norm(b,1)/2)\n",
    "plt.plot(t,'ro')\n"
   ]
  },
  {
   "cell_type": "markdown",
   "metadata": {},
   "source": [
    "## 3- Résolution  of the Lasso problem\n",
    "\n",
    "#### Question 3.1\n",
    "\n",
    "For such a fonction the gradient is equal to $A^t(Ax-b)$\n",
    "\n",
    "##### Question 3.2\n",
    "let's now code the proximale gradient for Problem(1) with r=1"
   ]
  },
  {
   "cell_type": "code",
   "execution_count": 7,
   "metadata": {},
   "outputs": [],
   "source": [
    "from scipy.linalg import norm\n",
    "\n",
    "def grad(x,A,b):\n",
    "    return A.T.dot(A.dot(x) - b)\n",
    "\n",
    "def get_step(A):\n",
    "    n = len(A[0])\n",
    "    return (1/norm(A, ord=2) ** 2 / (4.*n)) \n",
    "\n",
    "\n",
    "def proximal_gradient(r,A,b,epsilon=0.00001):\n",
    "    \"\"\"ISTA algorithm.\"\"\"\n",
    "    n = len(A[0])\n",
    "    x_init = np.zeros(n)\n",
    "    step=get_step(A)\n",
    "    x = x_init.copy()\n",
    "    x_old = np.ones(n)\n",
    "    err = 1000\n",
    "    while err> epsilon:\n",
    "        x,_ = projection_on_l1_ball(x-step*grad(x,A,b),r,verbose=False)\n",
    "        err = norm([x-x_old for x,x_old in zip(x,x_old)])\n",
    "        #print(err)\n",
    "        x_old = x\n",
    "    return x\n"
   ]
  },
  {
   "cell_type": "code",
   "execution_count": 8,
   "metadata": {},
   "outputs": [
    {
     "data": {
      "text/plain": [
       "list"
      ]
     },
     "execution_count": 8,
     "metadata": {},
     "output_type": "execute_result"
    }
   ],
   "source": [
    "x_prox_grad = proximal_gradient(1,A,b)\n",
    "type(x_prox_grad)"
   ]
  },
  {
   "cell_type": "code",
   "execution_count": 9,
   "metadata": {},
   "outputs": [
    {
     "name": "stdout",
     "output_type": "stream",
     "text": [
      "1.0\n"
     ]
    }
   ],
   "source": [
    "print(np.sum(np.abs(x_prox_grad)))"
   ]
  },
  {
   "cell_type": "markdown",
   "metadata": {},
   "source": [
    "## 4-Comparaison of the two lasso formualtions\n",
    "\n",
    "#### Question 4.1\n",
    "let's first show that if it exist $x^*$ solution of the problem (1) with parameter r then there exists $\\alpha(r) \\geq 0$ such as $x^*$ is solution to problem (2) with parameter $\\alpha(r)$ and if it exist $x^*$ solution of the problem (2) with parameter $\\alpha$ then there exists $r(\\alpha) \\geq 0$ such as $x^*$ is solution to problem (2) with parameter $r(\\alpha)$.\n",
    "first let's notice that:   \n",
    "$$\n",
    "(2) = \\left\\{\n",
    "    \\begin{array}{ll}\n",
    "        \\min_{x} \\frac{1}{2}||Ax-b||^2_2+\\alpha||x||_1 \\\\\n",
    "        x \\in \\mathbb{R}^m\n",
    "    \\end{array}\n",
    "\\right.\n",
    "$$\n",
    "\n",
    "we can rewrite it \n",
    "$$\n",
    "(2) = \\left\\{\n",
    "    \\begin{array}{ll}\n",
    "        \\min_{x} \\frac{1}{2}||z-b||^2_2+\\alpha||x||_1 \\\\\n",
    "        z = Ax\n",
    "    \\end{array}\n",
    "\\right.\n",
    "$$\n",
    "\n",
    "the lagrangian of this problem is written after simplifaction:\n",
    "    $$ L(x,z,u) =  \\frac{1}{2} ||z||^2_2 +\\frac{1}{2} ||b||^2_2 + (u-b)^Tz+\\alpha||x||_1-u^TAx $$  \n",
    "   \n",
    "we see here that there is one part depending on Z only and one part depending on x only.  \n",
    "thus:  \n",
    "    $$ argmin_x L(x,z,u) =  argmin_x \\alpha ||x||_1 - u^TAx$$\n",
    "as this function is not differenciable we will use the subgradient.\n",
    "as such it now comes: $ | A_i^Tu^*| < \\alpha => x_i^* = 0$  \n",
    "for $$ argmin_z L(x^*,z,u) =  argmin_z \\frac{1}{2} ||z||^2_2 +\\frac{1}{2} ||b||^2_2 + (u-b)^Tz$$ it comes:  \n",
    "$$z^* = b-u^*$$ \n",
    "let's remind that the dual objective is given by:\n",
    "$$\\Delta_\\alpha(u) = \\inf_{x,z} L(x,z,u)$$\n",
    "as such we have:\n",
    "$$\n",
    "\\left\\{\n",
    "    \\begin{array}{ll}\n",
    "        \\Delta_\\alpha(u) = \\frac{1}{2} ||b||^2_2 -  \\frac{1}{2} ||z||^2_2 - \\frac{1}{2} ||b-u^*||^2_2 \\\\\n",
    "        | A_i^Tu^*| < \\alpha \\; \\forall i\n",
    "    \\end{array}\n",
    "\\right.\n",
    "$$  \n",
    "and then by strong duality:\n",
    "$$\\Delta_\\alpha(u) \\leq \\Delta_\\alpha(u^*) = P_\\alpha(x_\\alpha^*) \\leq P_\\alpha(x) $$\n",
    "let's now use all of that:\n",
    "\n",
    "\n",
    "\n",
    "we write the lagrangian for Problem (1) and use the KKT connditions:\n",
    "$$\n",
    "\\left\\{\n",
    "    \\begin{array}{ll}\n",
    "        \\nabla_x L(x^*,\\theta^*) = 0 \\\\\n",
    "        \\theta^*(||x||_1 - r) = 0 \\\\\n",
    "        \\theta^* \\geq 0\n",
    "    \\end{array}\n",
    "\\right.\n",
    "$$  \n",
    "if we assume $x^*$ is solution of (2) with parameter $\\alpha$ then $x^* = x^*(\\alpha)$ and if we define $r=||x^*(\\alpha)||_1$\n",
    "then $\\theta^*= \\alpha and x^* = x^*(alpha)$ is satisfying the KKT conditions for problem (1) hence we have that $x^* = x^*(\\alpha)$ is solution of problem (1) with parameter $r(\\alpha) = ||x^*(\\alpha)||_1$  \n",
    "Now let's assume  $x^*$ is solution of problem (1) with parameter r.\n",
    "let's take $X_0^T = (r,.....,0)$ then the stater conditions are verified thus $\\exists \\theta^*$ such as $(x^*,\\theta^*)$ is a saddle point of the Lagrangian of the problem given by:\n",
    "$$L(x,\\theta= \\frac{1}{2}||Ax-b||^2_2 + \\theta(||x||_1-r) - \\mathcal{i}_\\mathbb{R^+}(\\theta)$$\n",
    "the definition of the saddle point (dual gap is equal to zero), we now have:\n",
    "$$\n",
    "\\left\\{\n",
    "    \\begin{array}{ll}\n",
    "        \\theta^* \\in argmax_\\theta \\theta(||x||_1-r)- \\mathcal{i}_\\mathbb{R^+}(\\theta) \\\\\n",
    "        x^* \\in argmin_x \\frac{1}{2}||Ax-b||^2_2 + \\theta^*(||x||_1)\n",
    "    \\end{array}\n",
    "\\right.\n",
    "$$\n",
    "hence $\\theta^* = \\theta^*(r)$ and we have $x^*$ solution of (2) with parameter $\\alpha(r) = \\theta^*(r)$\n",
    "\n",
    "\n",
    "\n",
    "#### Question 4.2"
   ]
  },
  {
   "cell_type": "code",
   "execution_count": 10,
   "metadata": {},
   "outputs": [
    {
     "name": "stdout",
     "output_type": "stream",
     "text": [
      "Lauching ISTA solver...\n",
      "   it    |   obj   \n",
      "      10 | 9.14e+01 | 3.33e-03\n",
      "      20 | 9.05e+01 | 2.52e-03\n",
      "      30 | 9.00e+01 | 2.04e-03\n",
      "      40 | 8.96e+01 | 1.70e-03\n",
      "      50 | 8.93e+01 | 1.46e-03\n",
      "      60 | 8.91e+01 | 1.25e-03\n",
      "      70 | 8.90e+01 | 1.10e-03\n",
      "      80 | 8.89e+01 | 9.74e-04\n",
      "      90 | 8.88e+01 | 8.70e-04\n",
      "     100 | 8.87e+01 | 7.82e-04\n",
      "     110 | 8.87e+01 | 6.61e-04\n",
      "     120 | 8.86e+01 | 5.90e-04\n",
      "     130 | 8.86e+01 | 5.32e-04\n",
      "     140 | 8.86e+01 | 4.84e-04\n",
      "     150 | 8.85e+01 | 4.43e-04\n",
      "     160 | 8.85e+01 | 4.08e-04\n",
      "     170 | 8.85e+01 | 3.78e-04\n",
      "     180 | 8.85e+01 | 3.52e-04\n",
      "     190 | 8.85e+01 | 3.28e-04\n",
      "     200 | 8.85e+01 | 3.08e-04\n",
      "     210 | 8.85e+01 | 2.89e-04\n",
      "     220 | 8.84e+01 | 2.73e-04\n",
      "     230 | 8.84e+01 | 2.58e-04\n",
      "     240 | 8.84e+01 | 2.45e-04\n",
      "     250 | 8.84e+01 | 2.33e-04\n",
      "     260 | 8.84e+01 | 2.22e-04\n",
      "     270 | 8.84e+01 | 2.11e-04\n",
      "     280 | 8.84e+01 | 2.02e-04\n",
      "     290 | 8.84e+01 | 1.93e-04\n",
      "     300 | 8.84e+01 | 1.78e-04\n",
      "     310 | 8.84e+01 | 1.69e-04\n",
      "     320 | 8.84e+01 | 1.62e-04\n",
      "     330 | 8.84e+01 | 1.55e-04\n",
      "     340 | 8.84e+01 | 1.49e-04\n",
      "     350 | 8.84e+01 | 1.43e-04\n",
      "     360 | 8.84e+01 | 1.38e-04\n",
      "     370 | 8.84e+01 | 1.32e-04\n",
      "     380 | 8.84e+01 | 1.28e-04\n",
      "     390 | 8.84e+01 | 1.23e-04\n",
      "     400 | 8.84e+01 | 1.19e-04\n",
      "     410 | 8.84e+01 | 1.15e-04\n",
      "     420 | 8.84e+01 | 1.11e-04\n"
     ]
    }
   ],
   "source": [
    "from numpy.linalg import norm\n",
    "def prox_lasso(x, s, t=1.):\n",
    "    \"\"\"Proximal operator for the Lasso at x with strength t\"\"\"    \n",
    "    s = t*s\n",
    "    return [xi+s if xi < -s else xi-s if xi > s else 0 for xi in x]\n",
    "    \n",
    "def lasso(x, s):\n",
    "    \"\"\"Value of the Lasso penalization at x with strength t\"\"\"\n",
    "    return s*norm(x,1)\n",
    "\n",
    "def grad_linreg(x,A,b):\n",
    "    return A.T.dot(A.dot(x) - b)\n",
    "\n",
    "    \n",
    "def loss_linreg(x,A,b):\n",
    "    \"\"\"Least-squares loss\"\"\"\n",
    "    return (.5)*((norm(A.dot(x)-b))**2)\n",
    "\n",
    "L = norm(A)**2\n",
    "\n",
    "def ista(A,b,s, f= loss_linreg, grad_f = grad_linreg, g = lasso, prox_g = prox_lasso, step =1/L ,epsilon = 0.0001, verbose=True):\n",
    "    \"\"\"Proximal gradient descent algorithm\n",
    "    \"\"\"\n",
    "    x0 = np.zeros(len(A[0]))\n",
    "    x = x0.copy()\n",
    "    x_new = np.ones(len(x))\n",
    "    n_samples, n_features = A.shape\n",
    "    err = 1000\n",
    "    # estimation error history\n",
    "    errors = []\n",
    "    # objective history\n",
    "    objectives = []\n",
    "    # Current objective\n",
    "    obj = f(x,A,b) + g(x, s)\n",
    "    objectives.append(obj)\n",
    "    if verbose:\n",
    "        print(\"Lauching ISTA solver...\")\n",
    "        print(' | '.join([name.center(8) for name in [\"it\", \"obj\"]]))\n",
    "    k=0\n",
    "    erreur = []\n",
    "    while(err > epsilon): \n",
    "        k+=1\n",
    "        x = prox_g(x - step*grad_f(x,A,b), s*step)\n",
    "        \n",
    "        obj = f(x,A,b) + g(x, s)\n",
    "        objectives.append(obj)\n",
    "        err = norm([x-x_new for x,x_new in zip(x,x_new)])\n",
    "        erreur.append(err)\n",
    "        x_new = x\n",
    "        \n",
    "        if k % 10 == 0 and verbose:\n",
    "            print(' | '.join([(\"%d\" % k).rjust(8), \n",
    "                              (\"%.2e\" % obj).rjust(8),\n",
    "                              (\"%.2e\" % err).rjust(8)]))\n",
    "    return x, objectives,erreur\n",
    "\n",
    "x_ista,_,err = ista(A,b,norm(A.T.dot(b),np.inf)/2)"
   ]
  },
  {
   "cell_type": "code",
   "execution_count": 11,
   "metadata": {},
   "outputs": [
    {
     "name": "stdout",
     "output_type": "stream",
     "text": [
      "0.449580977957\n"
     ]
    },
    {
     "data": {
      "text/plain": [
       "[<matplotlib.lines.Line2D at 0x1c6c0b4f908>]"
      ]
     },
     "execution_count": 11,
     "metadata": {},
     "output_type": "execute_result"
    },
    {
     "data": {
      "image/png": "[encoded data removed]",
      "text/plain": [
       "<matplotlib.figure.Figure at 0x1c6c0552828>"
      ]
     },
     "metadata": {},
     "output_type": "display_data"
    }
   ],
   "source": [
    "print(np.sum(np.abs(x_ista)))\n",
    "plt.plot(err[1:],'ro')"
   ]
  },
  {
   "cell_type": "markdown",
   "metadata": {},
   "source": [
    "#### Question 4.3"
   ]
  },
  {
   "cell_type": "code",
   "execution_count": 12,
   "metadata": {},
   "outputs": [],
   "source": [
    "import warnings\n",
    "warnings.simplefilter('ignore')\n",
    "\n",
    "from sklearn.cross_validation import train_test_split\n",
    "A_train,A_test,b_train,b_test = train_test_split(A, b, test_size=0.3, random_state=42)"
   ]
  },
  {
   "cell_type": "code",
   "execution_count": 13,
   "metadata": {},
   "outputs": [],
   "source": [
    "def holdout(alpha,rayon): #alpha and rayon two lists of parameters\n",
    "    err_ista = []\n",
    "    err_prox_grad = []\n",
    "    print('starting test for alpha')\n",
    "    for a in alpha:\n",
    "        print(a)\n",
    "        x_ista,_,_= ista(A_train,b_train,10**a,verbose = False) ### ///!\\\\\\ ###\n",
    "        err_ista.append(loss_linreg(x_ista,A_test,b_test))\n",
    "    print('starting test for r')\n",
    "    for r in rayon:\n",
    "        print(r)\n",
    "        x_prox_grad = proximal_gradient(10**r,A_train,b_train) ### ///!\\\\\\ ###\n",
    "        err_prox_grad.append(loss_linreg(x_prox_grad,A_test,b_test))\n",
    "    f, (ax1, ax2) = plt.subplots(1, 2)\n",
    "    ax1.plot(alpha,err_ista)\n",
    "    ax1.set_title('error on train set for different alpha')\n",
    "    ax2.plot(rayon,err_prox_grad)\n",
    "    ax2.set_title('error on train set for different r')\n",
    "    return(err_ista,err_prox_grad)\n",
    "        "
   ]
  },
  {
   "cell_type": "code",
   "execution_count": 14,
   "metadata": {},
   "outputs": [
    {
     "name": "stdout",
     "output_type": "stream",
     "text": [
      "starting test for alpha\n",
      "0.5\n",
      "0.7\n",
      "0.8\n",
      "0.9\n",
      "1\n",
      "1.1\n",
      "1.2\n",
      "1.3\n",
      "1.4\n",
      "1.5\n",
      "1.6\n",
      "1.7\n",
      "1.8\n",
      "1.9\n",
      "starting test for r\n",
      "-0.5\n",
      "-0.4\n",
      "-0.3\n",
      "-0.2\n",
      "-0.1\n",
      "0\n",
      "0.1\n",
      "0.2\n",
      "0.3\n",
      "0.4\n",
      "0.5\n"
     ]
    },
    {
     "data": {
      "text/plain": [
       "([23.231244571968112,\n",
       "  22.951850192855119,\n",
       "  22.701631031737108,\n",
       "  22.532858371860357,\n",
       "  22.359468924173079,\n",
       "  22.251843355876407,\n",
       "  22.154209168131381,\n",
       "  22.293862881124259,\n",
       "  22.201861212147918,\n",
       "  22.648013837906124,\n",
       "  23.537934172205244,\n",
       "  23.845227475055648,\n",
       "  23.845227475055648,\n",
       "  23.845227475055648],\n",
       " [22.651368178283889,\n",
       "  22.390949302410736,\n",
       "  22.111941009481196,\n",
       "  21.770051001940249,\n",
       "  21.396972782081917,\n",
       "  21.023353375396397,\n",
       "  20.705328585032458,\n",
       "  20.546961324759152,\n",
       "  20.730203455089384,\n",
       "  21.567331216624424,\n",
       "  23.582492865083509])"
      ]
     },
     "execution_count": 14,
     "metadata": {},
     "output_type": "execute_result"
    },
    {
     "data": {
      "image/png": "[encoded data removed]",
      "text/plain": [
       "<matplotlib.figure.Figure at 0x1c6c0552160>"
      ]
     },
     "metadata": {},
     "output_type": "display_data"
    }
   ],
   "source": [
    "alpha = [0.5,.7,.8,.9,1,1.1,1.2,1.3,1.4,1.5,1.6,1.7,1.8,1.9]\n",
    "rayon = [-0.5,-0.4,-0.3,-0.2,-0.1,0,0.1,0.2,0.3,0.4,0.5]\n",
    "holdout(alpha,rayon)"
   ]
  },
  {
   "cell_type": "code",
   "execution_count": 15,
   "metadata": {},
   "outputs": [
    {
     "name": "stdout",
     "output_type": "stream",
     "text": [
      "time of computation for ISTA: 0.15190339088439941\n",
      "time of computation for proximal gradient: 0.11182904243469238\n"
     ]
    }
   ],
   "source": [
    "import time\n",
    "t = time.time()\n",
    "ista(A_train,b_train,1.25,verbose = False)\n",
    "print('time of computation for ISTA: %s' % str(time.time()-t))\n",
    "\n",
    "t = time.time()\n",
    "proximal_gradient(0.20,A_train,b_train)\n",
    "print('time of computation for proximal gradient: %s' % str(time.time()-t))"
   ]
  },
  {
   "cell_type": "markdown",
   "metadata": {},
   "source": [
    "alpha = 10^1.25 and r = 10^0.20 seems so have the best results but the proximal gradient seems to have better results than ISTA in this situation (for time and precision)"
   ]
  },
  {
   "cell_type": "markdown",
   "metadata": {},
   "source": [
    "### 5 - Extension\n",
    "\n",
    "for such a problem all the first-order methode allowing to find the minimum are effective (FISTA,...) we can also use the Stochastic ones (SAG,SGD,...) to speed up the time of computation."
   ]
  },
  {
   "cell_type": "code",
   "execution_count": null,
   "metadata": {},
   "outputs": [],
   "source": []
  }
 ],
 "metadata": {
  "kernelspec": {
   "display_name": "Python 3",
   "language": "python",
   "name": "python3"
  },
  "language_info": {
   "codemirror_mode": {
    "name": "ipython",
    "version": 3
   },
   "file_extension": ".py",
   "mimetype": "text/x-python",
   "name": "python",
   "nbconvert_exporter": "python",
   "pygments_lexer": "ipython3",
   "version": "3.6.2"
  }
 },
 "nbformat": 4,
 "nbformat_minor": 2
}
